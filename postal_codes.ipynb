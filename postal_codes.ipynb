{
 "cells": [
  {
   "cell_type": "code",
   "execution_count": 30,
   "metadata": {},
   "outputs": [
    {
     "name": "stdout",
     "output_type": "stream",
     "text": [
      "Requirement already satisfied: pandas in c:\\users\\ushara\\appdata\\local\\programs\\python\\python312\\lib\\site-packages (2.2.3)\n",
      "Requirement already satisfied: numpy>=1.26.0 in c:\\users\\ushara\\appdata\\local\\programs\\python\\python312\\lib\\site-packages (from pandas) (2.2.2)\n",
      "Requirement already satisfied: python-dateutil>=2.8.2 in c:\\users\\ushara\\appdata\\roaming\\python\\python312\\site-packages (from pandas) (2.9.0.post0)\n",
      "Requirement already satisfied: pytz>=2020.1 in c:\\users\\ushara\\appdata\\local\\programs\\python\\python312\\lib\\site-packages (from pandas) (2024.2)\n",
      "Requirement already satisfied: tzdata>=2022.7 in c:\\users\\ushara\\appdata\\local\\programs\\python\\python312\\lib\\site-packages (from pandas) (2025.1)\n",
      "Requirement already satisfied: six>=1.5 in c:\\users\\ushara\\appdata\\roaming\\python\\python312\\site-packages (from python-dateutil>=2.8.2->pandas) (1.17.0)\n"
     ]
    },
    {
     "name": "stderr",
     "output_type": "stream",
     "text": [
      "\n",
      "[notice] A new release of pip is available: 24.2 -> 24.3.1\n",
      "[notice] To update, run: python.exe -m pip install --upgrade pip\n"
     ]
    }
   ],
   "source": [
    "!pip install pandas"
   ]
  },
  {
   "cell_type": "code",
   "execution_count": 31,
   "metadata": {},
   "outputs": [],
   "source": [
    "import pandas as pd"
   ]
  },
  {
   "cell_type": "markdown",
   "metadata": {},
   "source": [
    "Define the postal code ranges for the 25 districts of Sri Lanka"
   ]
  },
  {
   "cell_type": "code",
   "execution_count": 38,
   "metadata": {},
   "outputs": [],
   "source": [
    "district_ranges = {\n",
    "    \"Colombo\": (100, 10999),\n",
    "    \"Gampaha\": (11000, 11999),\n",
    "    \"Kalutara\": (12000, 12999),\n",
    "    \"Kandy\": (20000, 20999),\n",
    "    \"Matale\": (21000, 21999),\n",
    "    \"Nuwara Eliya\": (22000, 22999),\n",
    "    \"Galle\": (80000, 80999),\n",
    "    \"Matara\": (81000, 81999),\n",
    "    \"Hambantota\": (82000, 82999),\n",
    "    \"Jaffna\": (40000, 40999),\n",
    "    \"Kilinochchi\": (42400, 42499),\n",
    "    \"Kilinochchi\": (42500, 42512),\n",
    "    \"Kilinochchi\": (42550, 42634),\n",
    "    \"Mannar\": (41000, 41220),\n",
    "    \"Vavuniya\": (43000, 43999),\n",
    "    \"Puttalam\": (60000, 60999),\n",
    "    \"Kurunegala\": (61000, 61999),\n",
    "    \"Anuradhapura\": (50000, 50999),\n",
    "    \"Polonnaruwa\": (51000, 51999),\n",
    "    \"Badulla\": (90000, 90999),\n",
    "    \"Monaragala\": (91000, 91554),\n",
    "    \"Ratnapura\": (70000, 70999),\n",
    "    \"Kegalle\": (71000, 71999),\n",
    "    \"Trincomalee\": (30000, 30999),\n",
    "    \"Batticaloa\": (31000, 31999),\n",
    "    \"Ampara\": (32000, 32999),\n",
    "    \"Mullaitivu\": (42000, 42340),\n",
    "    \"Mullaitivu\": (42530, 42534)\n",
    "}\n"
   ]
  },
  {
   "cell_type": "markdown",
   "metadata": {},
   "source": [
    " Function to classify postal codes into districts based on the ranges"
   ]
  },
  {
   "cell_type": "code",
   "execution_count": 39,
   "metadata": {},
   "outputs": [],
   "source": [
    "def classify_district(postal_code):\n",
    "    for district, (start, end) in district_ranges.items():\n",
    "        if start <= postal_code <= end:\n",
    "            return district\n",
    "    return \"Other\""
   ]
  },
  {
   "cell_type": "markdown",
   "metadata": {},
   "source": [
    "Load the CSV file containing postal codes"
   ]
  },
  {
   "cell_type": "code",
   "execution_count": 40,
   "metadata": {},
   "outputs": [],
   "source": [
    "postal_codes_df = pd.read_csv('postal_codes.csv')"
   ]
  },
  {
   "cell_type": "code",
   "execution_count": 41,
   "metadata": {},
   "outputs": [],
   "source": [
    "# Check if 'Postal Code' column exists in the CSV\n",
    "if 'Postal Code' not in postal_codes_df.columns:\n",
    "    raise ValueError(\"CSV file must contain a 'Postal Code' column\")"
   ]
  },
  {
   "cell_type": "code",
   "execution_count": 42,
   "metadata": {},
   "outputs": [],
   "source": [
    "# Apply the district classification function to each postal code\n",
    "postal_codes_df['District'] = postal_codes_df['Postal Code'].apply(classify_district)"
   ]
  },
  {
   "cell_type": "code",
   "execution_count": 43,
   "metadata": {},
   "outputs": [
    {
     "name": "stdout",
     "output_type": "stream",
     "text": [
      "CSV file 'updated_postal_codes.csv' created successfully.\n"
     ]
    }
   ],
   "source": [
    "# Save the updated DataFrame to a new CSV file\n",
    "postal_codes_df.to_csv('updated_postal_codes.csv', index=False)\n",
    "\n",
    "print(\"CSV file 'updated_postal_codes.csv' created successfully.\")"
   ]
  }
 ],
 "metadata": {
  "kernelspec": {
   "display_name": "Python 3",
   "language": "python",
   "name": "python3"
  },
  "language_info": {
   "codemirror_mode": {
    "name": "ipython",
    "version": 3
   },
   "file_extension": ".py",
   "mimetype": "text/x-python",
   "name": "python",
   "nbconvert_exporter": "python",
   "pygments_lexer": "ipython3",
   "version": "3.12.6"
  }
 },
 "nbformat": 4,
 "nbformat_minor": 2
}
